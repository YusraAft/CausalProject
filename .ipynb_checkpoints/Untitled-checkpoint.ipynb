{
 "cells": [
  {
   "cell_type": "code",
   "execution_count": 1,
   "id": "3f06bcc6-e292-49ff-845f-dca42cfc13c0",
   "metadata": {},
   "outputs": [
    {
     "name": "stdout",
     "output_type": "stream",
     "text": [
      "C:\\Users\\yusra\\Documents\\CausalInference\\ClassSize\\ClassSize\\..\\..\\hw2-YusraAft\\estimator.py\n"
     ]
    }
   ],
   "source": [
    "import pandas as pd \n",
    "import matplotlib.pyplot as plt\n",
    "import importlib.util\n",
    "import pathlib\n",
    "import os\n",
    "\n",
    "curr_dir = os.path.join(pathlib.Path().resolve(), \"..\\..\\hw2-YusraAft\\estimator.py\")\n",
    "print(curr_dir)\n",
    "spec=importlib.util.spec_from_file_location(\"estimator\",curr_dir)\n",
    "  \n",
    "# creates a new module based on spec\n",
    "estimator = importlib.util.module_from_spec(spec)\n",
    "spec.loader.exec_module(estimator)\n",
    "\n",
    "\n",
    "data= pd.read_csv('final5a.csv')\n"
   ]
  },
  {
   "cell_type": "code",
   "execution_count": 2,
   "id": "c20dbff5-f15a-4411-b7ae-0af9c480e726",
   "metadata": {},
   "outputs": [
    {
     "name": "stdout",
     "output_type": "stream",
     "text": [
      "      classize  towncode  avgmath  tipuach\n",
      "0           28   26104.0    74.11       24\n",
      "1           26   26104.0    71.11       24\n",
      "2           22   26104.0    64.00       38\n",
      "3           15   26104.0    50.00       38\n",
      "4           32    4622.0    68.38        6\n",
      "...        ...       ...      ...      ...\n",
      "2024        19   12682.0    68.47       26\n",
      "2025        27   71001.0    70.27       22\n",
      "2026        38    6957.0    70.10        0\n",
      "2027        32    6957.0    69.53        0\n",
      "2028        20    2469.0    50.37       60\n",
      "\n",
      "[2029 rows x 4 columns]\n"
     ]
    }
   ],
   "source": [
    "cols = [\"classize\", \"towncode\", \"avgmath\", \"tipuach\"]\n",
    "data = data[cols]\n",
    "print(data)"
   ]
  },
  {
   "cell_type": "code",
   "execution_count": 3,
   "id": "0e679b87-d943-498d-b274-a29f84caa24c",
   "metadata": {},
   "outputs": [
    {
     "data": {
      "text/plain": [
       "classize     0\n",
       "towncode    51\n",
       "avgmath      5\n",
       "tipuach      0\n",
       "dtype: int64"
      ]
     },
     "execution_count": 3,
     "metadata": {},
     "output_type": "execute_result"
    }
   ],
   "source": [
    "data.isna().sum()"
   ]
  },
  {
   "cell_type": "code",
   "execution_count": 9,
   "id": "5d7d7367-72fb-4c07-b46b-bd6a6805af65",
   "metadata": {},
   "outputs": [
    {
     "name": "stdout",
     "output_type": "stream",
     "text": [
      "0    30007.0\n",
      "dtype: float64\n"
     ]
    }
   ],
   "source": [
    "print(data[\"towncode\"].mode())\n"
   ]
  },
  {
   "cell_type": "code",
   "execution_count": 10,
   "id": "22fcbc45-c7b8-42c5-9987-cb798f8b6c7d",
   "metadata": {},
   "outputs": [
    {
     "data": {
      "text/html": [
       "<div>\n",
       "<style scoped>\n",
       "    .dataframe tbody tr th:only-of-type {\n",
       "        vertical-align: middle;\n",
       "    }\n",
       "\n",
       "    .dataframe tbody tr th {\n",
       "        vertical-align: top;\n",
       "    }\n",
       "\n",
       "    .dataframe thead th {\n",
       "        text-align: right;\n",
       "    }\n",
       "</style>\n",
       "<table border=\"1\" class=\"dataframe\">\n",
       "  <thead>\n",
       "    <tr style=\"text-align: right;\">\n",
       "      <th></th>\n",
       "      <th>classize</th>\n",
       "      <th>towncode</th>\n",
       "      <th>avgmath</th>\n",
       "      <th>tipuach</th>\n",
       "    </tr>\n",
       "  </thead>\n",
       "  <tbody>\n",
       "    <tr>\n",
       "      <th>0</th>\n",
       "      <td>28</td>\n",
       "      <td>26104.0</td>\n",
       "      <td>74.11</td>\n",
       "      <td>24</td>\n",
       "    </tr>\n",
       "    <tr>\n",
       "      <th>1</th>\n",
       "      <td>26</td>\n",
       "      <td>26104.0</td>\n",
       "      <td>71.11</td>\n",
       "      <td>24</td>\n",
       "    </tr>\n",
       "    <tr>\n",
       "      <th>2</th>\n",
       "      <td>22</td>\n",
       "      <td>26104.0</td>\n",
       "      <td>64.00</td>\n",
       "      <td>38</td>\n",
       "    </tr>\n",
       "    <tr>\n",
       "      <th>3</th>\n",
       "      <td>15</td>\n",
       "      <td>26104.0</td>\n",
       "      <td>50.00</td>\n",
       "      <td>38</td>\n",
       "    </tr>\n",
       "    <tr>\n",
       "      <th>4</th>\n",
       "      <td>32</td>\n",
       "      <td>4622.0</td>\n",
       "      <td>68.38</td>\n",
       "      <td>6</td>\n",
       "    </tr>\n",
       "    <tr>\n",
       "      <th>...</th>\n",
       "      <td>...</td>\n",
       "      <td>...</td>\n",
       "      <td>...</td>\n",
       "      <td>...</td>\n",
       "    </tr>\n",
       "    <tr>\n",
       "      <th>2024</th>\n",
       "      <td>19</td>\n",
       "      <td>12682.0</td>\n",
       "      <td>68.47</td>\n",
       "      <td>26</td>\n",
       "    </tr>\n",
       "    <tr>\n",
       "      <th>2025</th>\n",
       "      <td>27</td>\n",
       "      <td>71001.0</td>\n",
       "      <td>70.27</td>\n",
       "      <td>22</td>\n",
       "    </tr>\n",
       "    <tr>\n",
       "      <th>2026</th>\n",
       "      <td>38</td>\n",
       "      <td>6957.0</td>\n",
       "      <td>70.10</td>\n",
       "      <td>0</td>\n",
       "    </tr>\n",
       "    <tr>\n",
       "      <th>2027</th>\n",
       "      <td>32</td>\n",
       "      <td>6957.0</td>\n",
       "      <td>69.53</td>\n",
       "      <td>0</td>\n",
       "    </tr>\n",
       "    <tr>\n",
       "      <th>2028</th>\n",
       "      <td>20</td>\n",
       "      <td>2469.0</td>\n",
       "      <td>50.37</td>\n",
       "      <td>60</td>\n",
       "    </tr>\n",
       "  </tbody>\n",
       "</table>\n",
       "<p>2029 rows × 4 columns</p>\n",
       "</div>"
      ],
      "text/plain": [
       "      classize  towncode  avgmath  tipuach\n",
       "0           28   26104.0    74.11       24\n",
       "1           26   26104.0    71.11       24\n",
       "2           22   26104.0    64.00       38\n",
       "3           15   26104.0    50.00       38\n",
       "4           32    4622.0    68.38        6\n",
       "...        ...       ...      ...      ...\n",
       "2024        19   12682.0    68.47       26\n",
       "2025        27   71001.0    70.27       22\n",
       "2026        38    6957.0    70.10        0\n",
       "2027        32    6957.0    69.53        0\n",
       "2028        20    2469.0    50.37       60\n",
       "\n",
       "[2029 rows x 4 columns]"
      ]
     },
     "execution_count": 10,
     "metadata": {},
     "output_type": "execute_result"
    }
   ],
   "source": [
    "data[\"towncode\"] = data[\"towncode\"].fillna(30007.0)\n",
    "data[\"avgmath\"] = data[\"avgmath\"].fillna(data.avgmath.mean())\n",
    "data"
   ]
  },
  {
   "cell_type": "code",
   "execution_count": 11,
   "id": "21af9475-8e70-446d-9808-41c35f42772c",
   "metadata": {},
   "outputs": [
    {
     "data": {
      "text/plain": [
       "classize    0\n",
       "towncode    0\n",
       "avgmath     0\n",
       "tipuach     0\n",
       "dtype: int64"
      ]
     },
     "execution_count": 11,
     "metadata": {},
     "output_type": "execute_result"
    }
   ],
   "source": [
    "data.isna().sum()"
   ]
  },
  {
   "cell_type": "code",
   "execution_count": 12,
   "id": "afdea461-cde7-46c5-8c20-86926ae49705",
   "metadata": {},
   "outputs": [
    {
     "data": {
      "text/html": [
       "<div>\n",
       "<style scoped>\n",
       "    .dataframe tbody tr th:only-of-type {\n",
       "        vertical-align: middle;\n",
       "    }\n",
       "\n",
       "    .dataframe tbody tr th {\n",
       "        vertical-align: top;\n",
       "    }\n",
       "\n",
       "    .dataframe thead th {\n",
       "        text-align: right;\n",
       "    }\n",
       "</style>\n",
       "<table border=\"1\" class=\"dataframe\">\n",
       "  <thead>\n",
       "    <tr style=\"text-align: right;\">\n",
       "      <th></th>\n",
       "      <th>classize</th>\n",
       "      <th>towncode</th>\n",
       "      <th>avgmath</th>\n",
       "      <th>tipuach</th>\n",
       "    </tr>\n",
       "  </thead>\n",
       "  <tbody>\n",
       "    <tr>\n",
       "      <th>0</th>\n",
       "      <td>28</td>\n",
       "      <td>26104.0</td>\n",
       "      <td>74.11</td>\n",
       "      <td>24</td>\n",
       "    </tr>\n",
       "    <tr>\n",
       "      <th>1</th>\n",
       "      <td>26</td>\n",
       "      <td>26104.0</td>\n",
       "      <td>71.11</td>\n",
       "      <td>24</td>\n",
       "    </tr>\n",
       "    <tr>\n",
       "      <th>2</th>\n",
       "      <td>22</td>\n",
       "      <td>26104.0</td>\n",
       "      <td>64.00</td>\n",
       "      <td>38</td>\n",
       "    </tr>\n",
       "    <tr>\n",
       "      <th>3</th>\n",
       "      <td>15</td>\n",
       "      <td>26104.0</td>\n",
       "      <td>50.00</td>\n",
       "      <td>38</td>\n",
       "    </tr>\n",
       "    <tr>\n",
       "      <th>4</th>\n",
       "      <td>32</td>\n",
       "      <td>4622.0</td>\n",
       "      <td>68.38</td>\n",
       "      <td>6</td>\n",
       "    </tr>\n",
       "    <tr>\n",
       "      <th>...</th>\n",
       "      <td>...</td>\n",
       "      <td>...</td>\n",
       "      <td>...</td>\n",
       "      <td>...</td>\n",
       "    </tr>\n",
       "    <tr>\n",
       "      <th>2024</th>\n",
       "      <td>19</td>\n",
       "      <td>12682.0</td>\n",
       "      <td>68.47</td>\n",
       "      <td>26</td>\n",
       "    </tr>\n",
       "    <tr>\n",
       "      <th>2025</th>\n",
       "      <td>27</td>\n",
       "      <td>71001.0</td>\n",
       "      <td>70.27</td>\n",
       "      <td>22</td>\n",
       "    </tr>\n",
       "    <tr>\n",
       "      <th>2026</th>\n",
       "      <td>38</td>\n",
       "      <td>6957.0</td>\n",
       "      <td>70.10</td>\n",
       "      <td>0</td>\n",
       "    </tr>\n",
       "    <tr>\n",
       "      <th>2027</th>\n",
       "      <td>32</td>\n",
       "      <td>6957.0</td>\n",
       "      <td>69.53</td>\n",
       "      <td>0</td>\n",
       "    </tr>\n",
       "    <tr>\n",
       "      <th>2028</th>\n",
       "      <td>20</td>\n",
       "      <td>2469.0</td>\n",
       "      <td>50.37</td>\n",
       "      <td>60</td>\n",
       "    </tr>\n",
       "  </tbody>\n",
       "</table>\n",
       "<p>2029 rows × 4 columns</p>\n",
       "</div>"
      ],
      "text/plain": [
       "      classize  towncode  avgmath  tipuach\n",
       "0           28   26104.0    74.11       24\n",
       "1           26   26104.0    71.11       24\n",
       "2           22   26104.0    64.00       38\n",
       "3           15   26104.0    50.00       38\n",
       "4           32    4622.0    68.38        6\n",
       "...        ...       ...      ...      ...\n",
       "2024        19   12682.0    68.47       26\n",
       "2025        27   71001.0    70.27       22\n",
       "2026        38    6957.0    70.10        0\n",
       "2027        32    6957.0    69.53        0\n",
       "2028        20    2469.0    50.37       60\n",
       "\n",
       "[2029 rows x 4 columns]"
      ]
     },
     "execution_count": 12,
     "metadata": {},
     "output_type": "execute_result"
    }
   ],
   "source": [
    "df = pd.DataFrame(data)\n",
    "df.dropna()\n",
    "df"
   ]
  },
  {
   "cell_type": "code",
   "execution_count": 14,
   "id": "d2f4e0e7-c271-492c-b2fb-4c1e3237fe3d",
   "metadata": {},
   "outputs": [
    {
     "data": {
      "image/png": "[encoded data removed]",
      "text/plain": [
       "<Figure size 432x288 with 1 Axes>"
      ]
     },
     "metadata": {
      "needs_background": "light"
     },
     "output_type": "display_data"
    }
   ],
   "source": [
    "df = pd.DataFrame(data)\n",
    "df\n",
    "\n",
    "x = df['classize']\n",
    "y = df['avgmath']\n",
    "\n",
    "\n",
    "plt.scatter(x, y, color= \"blue\",\n",
    "            s=30)\n",
    "plt.xlabel('Class size')\n",
    "plt.ylabel('Average Math Scores')\n",
    "plt.title(\"5th Grade Affect of Class Size on Math Score\")\n",
    "plt.show()"
   ]
  },
  {
   "cell_type": "code",
   "execution_count": null,
   "id": "44906e64-07e9-41a0-ae90-5aa2c76a3174",
   "metadata": {},
   "outputs": [],
   "source": [
    "print(df['classize'].min())\n",
    "print(df['classize'].max())\n",
    "print(217/7)"
   ]
  },
  {
   "cell_type": "code",
   "execution_count": null,
   "id": "db340720-3bb5-455d-a31e-197930834a3b",
   "metadata": {},
   "outputs": [],
   "source": [
    "array_ = estimator.backdoor(df, confounders=[\"towncode\", \"tipuach\"],intervention=\"classize\", outcome=\"avgmath\")\n",
    "print(\"length \", len(array_))\n",
    "print(array_)"
   ]
  },
  {
   "cell_type": "code",
   "execution_count": null,
   "id": "d1e357b2-4414-4567-b6b9-e2eb290a3bc3",
   "metadata": {},
   "outputs": [],
   "source": [
    "estimator.bootstrap(df, estimator.backdoor, n=100)"
   ]
  }
 ],
 "metadata": {
  "kernelspec": {
   "display_name": "Python 3 (ipykernel)",
   "language": "python",
   "name": "python3"
  },
  "language_info": {
   "codemirror_mode": {
    "name": "ipython",
    "version": 3
   },
   "file_extension": ".py",
   "mimetype": "text/x-python",
   "name": "python",
   "nbconvert_exporter": "python",
   "pygments_lexer": "ipython3",
   "version": "3.8.12"
  }
 },
 "nbformat": 4,
 "nbformat_minor": 5
}
