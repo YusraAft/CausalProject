{
 "cells": [
  {
   "cell_type": "code",
   "execution_count": 10,
   "id": "3f06bcc6-e292-49ff-845f-dca42cfc13c0",
   "metadata": {},
   "outputs": [],
   "source": [
    "import pandas as pd \n",
    "import matplotlib.pyplot as plt\n",
    "# import importlib.util\n",
    "import pathlib\n",
    "from statsmodels.imputation import mice\n",
    "import estimator\n",
    "import statsmodels.api as sm\n",
    "from collections import defaultdict\n",
    "import numpy as np\n",
    "\n",
    "\n",
    "data= pd.read_csv('final5a.csv')\n"
   ]
  },
  {
   "cell_type": "code",
   "execution_count": 2,
   "id": "c20dbff5-f15a-4411-b7ae-0af9c480e726",
   "metadata": {},
   "outputs": [
    {
     "name": "stdout",
     "output_type": "stream",
     "text": [
      "      classize  towncode  avgmath  tipuach\n",
      "0           28   26104.0    74.11       24\n",
      "1           26   26104.0    71.11       24\n",
      "2           22   26104.0    64.00       38\n",
      "3           15   26104.0    50.00       38\n",
      "4           32    4622.0    68.38        6\n",
      "...        ...       ...      ...      ...\n",
      "2024        19   12682.0    68.47       26\n",
      "2025        27   71001.0    70.27       22\n",
      "2026        38    6957.0    70.10        0\n",
      "2027        32    6957.0    69.53        0\n",
      "2028        20    2469.0    50.37       60\n",
      "\n",
      "[2029 rows x 4 columns]\n"
     ]
    }
   ],
   "source": [
    "#This code block has been commented out but it was essentially importing the HW2 files. An alternative approach has been \n",
    "#used to import the HW2 files to allow for easier access via GitHub.\n",
    "\n",
    "#We want to select only the columns that correspond to the variables I am interested in studying the causal relationship of\n",
    "\n",
    "cols = [\"classize\", \"towncode\", \"avgmath\", \"tipuach\"]\n",
    "data = data[cols]\n",
    "print(data)"
   ]
  },
  {
   "cell_type": "code",
   "execution_count": 3,
   "id": "0e679b87-d943-498d-b274-a29f84caa24c",
   "metadata": {},
   "outputs": [
    {
     "data": {
      "text/plain": [
       "classize     0\n",
       "towncode    51\n",
       "avgmath      5\n",
       "tipuach      0\n",
       "dtype: int64"
      ]
     },
     "execution_count": 3,
     "metadata": {},
     "output_type": "execute_result"
    }
   ],
   "source": [
    "#This shows the amount of missing data that currently exists in the original data files\n",
    "\n",
    "data.isna().sum()"
   ]
  },
  {
   "cell_type": "code",
   "execution_count": 4,
   "id": "22fcbc45-c7b8-42c5-9987-cb798f8b6c7d",
   "metadata": {},
   "outputs": [],
   "source": [
    "#This block was previously used as alternative for missing data. This was updated to instead use Mice as can be seen below.\n",
    "\n",
    "# print(data[\"towncode\"].mode())\n",
    "# data[\"towncode\"] = data[\"towncode\"].fillna(30007.0)\n",
    "# data[\"avgmath\"] = data[\"avgmath\"].fillna(data.avgmath.mean())\n",
    "# data\n",
    "# array_ = estimator.backdoor(df, confounders=[\"towncode\", \"tipuach\"],intervention=\"classize\", outcome=\"avgmath\")\n",
    "# print(\"length \", len(array_))\n",
    "# print(array_)\n",
    "# estimator.bootstrap(df, estimator.backdoor, n=100)"
   ]
  },
  {
   "cell_type": "code",
   "execution_count": 5,
   "id": "afdea461-cde7-46c5-8c20-86926ae49705",
   "metadata": {},
   "outputs": [
    {
     "data": {
      "text/html": [
       "<div>\n",
       "<style scoped>\n",
       "    .dataframe tbody tr th:only-of-type {\n",
       "        vertical-align: middle;\n",
       "    }\n",
       "\n",
       "    .dataframe tbody tr th {\n",
       "        vertical-align: top;\n",
       "    }\n",
       "\n",
       "    .dataframe thead th {\n",
       "        text-align: right;\n",
       "    }\n",
       "</style>\n",
       "<table border=\"1\" class=\"dataframe\">\n",
       "  <thead>\n",
       "    <tr style=\"text-align: right;\">\n",
       "      <th></th>\n",
       "      <th>classize</th>\n",
       "      <th>towncode</th>\n",
       "      <th>avgmath</th>\n",
       "      <th>tipuach</th>\n",
       "    </tr>\n",
       "  </thead>\n",
       "  <tbody>\n",
       "    <tr>\n",
       "      <th>0</th>\n",
       "      <td>28</td>\n",
       "      <td>26104.0</td>\n",
       "      <td>74.11</td>\n",
       "      <td>24</td>\n",
       "    </tr>\n",
       "    <tr>\n",
       "      <th>1</th>\n",
       "      <td>26</td>\n",
       "      <td>26104.0</td>\n",
       "      <td>71.11</td>\n",
       "      <td>24</td>\n",
       "    </tr>\n",
       "    <tr>\n",
       "      <th>2</th>\n",
       "      <td>22</td>\n",
       "      <td>26104.0</td>\n",
       "      <td>64.00</td>\n",
       "      <td>38</td>\n",
       "    </tr>\n",
       "    <tr>\n",
       "      <th>3</th>\n",
       "      <td>15</td>\n",
       "      <td>26104.0</td>\n",
       "      <td>50.00</td>\n",
       "      <td>38</td>\n",
       "    </tr>\n",
       "    <tr>\n",
       "      <th>4</th>\n",
       "      <td>32</td>\n",
       "      <td>4622.0</td>\n",
       "      <td>68.38</td>\n",
       "      <td>6</td>\n",
       "    </tr>\n",
       "    <tr>\n",
       "      <th>...</th>\n",
       "      <td>...</td>\n",
       "      <td>...</td>\n",
       "      <td>...</td>\n",
       "      <td>...</td>\n",
       "    </tr>\n",
       "    <tr>\n",
       "      <th>2024</th>\n",
       "      <td>19</td>\n",
       "      <td>12682.0</td>\n",
       "      <td>68.47</td>\n",
       "      <td>26</td>\n",
       "    </tr>\n",
       "    <tr>\n",
       "      <th>2025</th>\n",
       "      <td>27</td>\n",
       "      <td>71001.0</td>\n",
       "      <td>70.27</td>\n",
       "      <td>22</td>\n",
       "    </tr>\n",
       "    <tr>\n",
       "      <th>2026</th>\n",
       "      <td>38</td>\n",
       "      <td>6957.0</td>\n",
       "      <td>70.10</td>\n",
       "      <td>0</td>\n",
       "    </tr>\n",
       "    <tr>\n",
       "      <th>2027</th>\n",
       "      <td>32</td>\n",
       "      <td>6957.0</td>\n",
       "      <td>69.53</td>\n",
       "      <td>0</td>\n",
       "    </tr>\n",
       "    <tr>\n",
       "      <th>2028</th>\n",
       "      <td>20</td>\n",
       "      <td>2469.0</td>\n",
       "      <td>50.37</td>\n",
       "      <td>60</td>\n",
       "    </tr>\n",
       "  </tbody>\n",
       "</table>\n",
       "<p>2029 rows × 4 columns</p>\n",
       "</div>"
      ],
      "text/plain": [
       "      classize  towncode  avgmath  tipuach\n",
       "0           28   26104.0    74.11       24\n",
       "1           26   26104.0    71.11       24\n",
       "2           22   26104.0    64.00       38\n",
       "3           15   26104.0    50.00       38\n",
       "4           32    4622.0    68.38        6\n",
       "...        ...       ...      ...      ...\n",
       "2024        19   12682.0    68.47       26\n",
       "2025        27   71001.0    70.27       22\n",
       "2026        38    6957.0    70.10        0\n",
       "2027        32    6957.0    69.53        0\n",
       "2028        20    2469.0    50.37       60\n",
       "\n",
       "[2029 rows x 4 columns]"
      ]
     },
     "execution_count": 5,
     "metadata": {},
     "output_type": "execute_result"
    }
   ],
   "source": [
    "#Initializing a new dataframe \n",
    "\n",
    "df = pd.DataFrame(data)\n",
    "df.dropna()\n",
    "df"
   ]
  },
  {
   "cell_type": "code",
   "execution_count": 6,
   "id": "d2f4e0e7-c271-492c-b2fb-4c1e3237fe3d",
   "metadata": {},
   "outputs": [
    {
     "data": {
      "image/png": "[encoded data removed]",
      "text/plain": [
       "<Figure size 432x288 with 1 Axes>"
      ]
     },
     "metadata": {
      "needs_background": "light"
     },
     "output_type": "display_data"
    }
   ],
   "source": [
    "#This is irrelevant to the actual code and simply is there to see a graph of the classize and avgmath scores\n",
    "\n",
    "df = pd.DataFrame(data)\n",
    "df\n",
    "\n",
    "x = df['classize']\n",
    "y = df['avgmath']\n",
    "\n",
    "\n",
    "plt.scatter(x, y, color= \"blue\",\n",
    "            s=30)\n",
    "plt.xlabel('Class size')\n",
    "plt.ylabel('Average Math Scores')\n",
    "plt.title(\"5th Grade Affect of Class Size on Math Score\")\n",
    "plt.show()"
   ]
  },
  {
   "cell_type": "code",
   "execution_count": 13,
   "id": "db340720-3bb5-455d-a31e-197930834a3b",
   "metadata": {},
   "outputs": [
    {
     "name": "stdout",
     "output_type": "stream",
     "text": [
      "Back Door Estimates: [65.962, 66.379, 67.477, 67.74]\n",
      "Standard Deviations: [0.0, 1.4210854715202004e-14, 0.0, 1.4210854715202004e-14]\n"
     ]
    }
   ],
   "source": [
    "#Here we calculate backdoor estimator but we do with MICE so that we can account for missing data. The imp.next_sample() \n",
    "#generates new data(imputations) for missing data each time. Hence, we are doing this 10 times to take an average of \n",
    "#backdoor estimator on each of the generated samples to allow for more robust findings. The standard deviation is also \n",
    "#calculated as an extra means of evaluating the backdoor estimator results. Robust meaning less likely to have occurred by \n",
    "#chance and perhaps showing the actual relation between the presented variables. \n",
    "\n",
    "#Q2.3 but note this calls the backdoor function where the actual model definition is (please refer to estimator.py)\n",
    "#New Code\n",
    "\n",
    "main_df = df\n",
    "\n",
    "imp2 = mice.MICEData(main_df) \n",
    "dict_estimators = defaultdict(list)\n",
    "for j in range(10):\n",
    "    df = imp2.next_sample()# generates datset with no missing data”\n",
    "    array_ = estimator.backdoor(df, confounders=[\"towncode\", \"tipuach\"],intervention=\"classize\", outcome=\"avgmath\")\n",
    "#     print(len(array_))\n",
    "    for array_estimate in range(len(array_)):\n",
    "        dict_estimators[array_estimate].append(array_[array_estimate])\n",
    "    \n",
    "        \n",
    "ret = []\n",
    "stds= []\n",
    "keys = sorted(dict_estimators.keys())\n",
    "for key in keys:\n",
    "    backdoor_estimates = dict_estimators[key]\n",
    "    avg = np.mean(backdoor_estimates)\n",
    "    std = np.std(backdoor_estimates)\n",
    "    stds.append(std)\n",
    "    ret.append(avg)\n",
    "\n",
    "# ret = np.array(ret)\n",
    "ret_str = [float(\"{:.3f}\".format(r)) for r in ret]\n",
    "print(f'Back Door Estimates: {ret_str}')\n",
    "\n",
    "\n",
    "print(f'Standard Deviations: {stds}')"
   ]
  },
  {
   "cell_type": "code",
   "execution_count": 12,
   "id": "d1e357b2-4414-4567-b6b9-e2eb290a3bc3",
   "metadata": {},
   "outputs": [
    {
     "data": {
      "text/plain": [
       "array([[65.02994557, 65.3347463 , 67.12236754, 64.70880551],\n",
       "       [68.065814  , 66.91659719, 67.79937866, 69.2467382 ]])"
      ]
     },
     "execution_count": 12,
     "metadata": {},
     "output_type": "execute_result"
    }
   ],
   "source": [
    "#This is the place we actually run the estimator.bootstrap to see the uncertainty of the data. We have combined this wiht \n",
    "#mice here to allow for viewing the uncertainty that mice would provide as that is the method being used for \n",
    "#missing data. This has also bee repeated total of 100 times due to it being 10*10 to allow for more robust findings.\n",
    "#New Code\n",
    "\n",
    "def backdoor_mice(data, n_mice=10):\n",
    "    imp = mice.MICEData(data)#datset with no missing data\n",
    "    dict_mice = defaultdict(list)\n",
    "    for j in range(n_mice):\n",
    "        df = imp.next_sample()\n",
    "        array_ = estimator.backdoor(df, confounders=[\"towncode\", \"tipuach\"],intervention=\"classize\", outcome=\"avgmath\")\n",
    "        for array_estimate in range(len(array_)):\n",
    "            dict_mice[array_estimate].append(array_[array_estimate])\n",
    "    ret = []\n",
    "    keys = sorted(dict_mice.keys())#New Code\n",
    "   \n",
    "    for key in keys:\n",
    "        backdoor_estimates = dict_mice[key]\n",
    "        avg = np.mean(backdoor_estimates)\n",
    "        ret.append(avg)\n",
    "    return ret\n",
    "# backdoor_mice(main_df)\n",
    "estimator.bootstrap(main_df, backdoor_mice, n=10, n_mice=10) #n_mice*n = number of times backdoor mice runs\n"
   ]
  },
  {
   "cell_type": "code",
   "execution_count": null,
   "id": "8a697e51-f616-4a6c-893f-43b4d33e1941",
   "metadata": {},
   "outputs": [],
   "source": []
  },
  {
   "cell_type": "code",
   "execution_count": null,
   "id": "e66806e7-5d58-45fe-8946-d890cda4e512",
   "metadata": {},
   "outputs": [],
   "source": []
  }
 ],
 "metadata": {
  "kernelspec": {
   "display_name": "Python 3 (ipykernel)",
   "language": "python",
   "name": "python3"
  },
  "language_info": {
   "codemirror_mode": {
    "name": "ipython",
    "version": 3
   },
   "file_extension": ".py",
   "mimetype": "text/x-python",
   "name": "python",
   "nbconvert_exporter": "python",
   "pygments_lexer": "ipython3",
   "version": "3.8.12"
  }
 },
 "nbformat": 4,
 "nbformat_minor": 5
}
